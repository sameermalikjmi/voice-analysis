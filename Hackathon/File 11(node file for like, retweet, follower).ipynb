{
 "cells": [
  {
   "cell_type": "code",
   "execution_count": 2,
   "metadata": {},
   "outputs": [],
   "source": [
    "import pandas as pd\n",
    "import csv\n",
    "Tweet = pd.read_csv(\"E:\\\\Twitter paper\\\\DATASET_CREATED\\\\Zomato_ENGLISH.csv\")\n",
    "a=[]\n",
    "for i in range(len(Tweet)):\n",
    "    a.append(Tweet.index[i])\n",
    "#print(a)\n",
    "Tweet['Tweet_ID']=a\n",
    "Tweet.to_csv(\"E:\\\\Twitter paper\\\\DATASET_CREATED\\\\Zomato_ENGLISH.csv\",index=False)"
   ]
  },
  {
   "cell_type": "markdown",
   "metadata": {},
   "source": [
    "# Most Retweeted Tweet"
   ]
  },
  {
   "cell_type": "code",
   "execution_count": 3,
   "metadata": {},
   "outputs": [
    {
     "name": "stdout",
     "output_type": "stream",
     "text": [
      "700\n"
     ]
    }
   ],
   "source": [
    "import pandas as pd\n",
    "data=pd.read_csv(\"E:\\\\Twitter paper\\\\DATASET_CREATED\\\\gephi\\\\Node_file.csv\")\n",
    "Tweetframe = pd.read_csv(\"E:\\\\Twitter paper\\\\DATASET_CREATED\\\\Zomato_ENGLISH.csv\")\n",
    "a=[]\n",
    "b=[]\n",
    "for j in range (len(data)):\n",
    "    for i in range(len(Tweetframe)):\n",
    "       # if(Tweetframe['Tweet_ID'][j]) == (data['Id'][i]):\n",
    "        if(str(data['Id'][j]))==(str(Tweetframe['Tweet_ID'][i])):\n",
    "            a.append(Tweetframe['Most_Retweet_Color'][i])\n",
    "            b.append(Tweetframe['Tweet_retwet_count'][i])\n",
    "            break\n",
    "        #else:\n",
    "         #   a.append(\"na\")\n",
    "            \n",
    "print(len(a))\n",
    "#print(a)\n",
    "new={'color':a,'value':b}\n",
    "file=pd.DataFrame(new)\n",
    "# color file to be manually copied to node file 4\n",
    "file.to_csv(\"E:\\\\Twitter paper\\\\DATASET_CREATED\\\\gephi\\\\Node_file(new)4.csv\", index=False)"
   ]
  },
  {
   "cell_type": "markdown",
   "metadata": {},
   "source": [
    "# Most Favourite tweet"
   ]
  },
  {
   "cell_type": "code",
   "execution_count": 4,
   "metadata": {},
   "outputs": [
    {
     "name": "stdout",
     "output_type": "stream",
     "text": [
      "700\n"
     ]
    }
   ],
   "source": [
    "import pandas as pd\n",
    "data=pd.read_csv(\"E:\\\\Twitter paper\\\\DATASET_CREATED\\\\gephi\\\\Node_file.csv\")\n",
    "Tweetframe = pd.read_csv(\"E:\\\\Twitter paper\\\\DATASET_CREATED\\\\Zomato_ENGLISH.csv\")\n",
    "a=[]\n",
    "b=[]\n",
    "for j in range (len(data)):\n",
    "    for i in range(len(Tweetframe)):\n",
    "       # if(Tweetframe['Tweet_ID'][j]) == (data['Id'][i]):\n",
    "        if(str(data['Id'][j]))==(str(Tweetframe['Tweet_ID'][i])):\n",
    "            a.append(Tweetframe['FAVOURITE_TWEET_Color'][i])\n",
    "            b.append(Tweetframe['Tweet_favourite_count'][i])\n",
    "            break\n",
    "        #else:\n",
    "         #   a.append(\"na\")\n",
    "            \n",
    "print(len(a))\n",
    "#print(a)\n",
    "new={'color':a,'value':b}\n",
    "file=pd.DataFrame(new)\n",
    "# color file to be manually copied to node file 3 \n",
    "file.to_csv(\"E:\\\\Twitter paper\\\\DATASET_CREATED\\\\gephi\\\\Node_file(new)3.csv\", index=False)"
   ]
  },
  {
   "cell_type": "markdown",
   "metadata": {},
   "source": [
    "# MOST Followed User"
   ]
  },
  {
   "cell_type": "code",
   "execution_count": 6,
   "metadata": {},
   "outputs": [
    {
     "name": "stdout",
     "output_type": "stream",
     "text": [
      "700\n"
     ]
    }
   ],
   "source": [
    "import pandas as pd\n",
    "data=pd.read_csv(\"E:\\\\Twitter paper\\\\DATASET_CREATED\\\\gephi\\\\Node_file.csv\")\n",
    "Tweetframe = pd.read_csv(\"E:\\\\Twitter paper\\\\DATASET_CREATED\\\\Zomato_ENGLISH.csv\")\n",
    "a=[]\n",
    "b=[]\n",
    "for j in range (len(data)):\n",
    "    for i in range(len(Tweetframe)):\n",
    "       # if(Tweetframe['Tweet_ID'][j]) == (data['Id'][i]):\n",
    "        if(str(data['Id'][j]))==(str(Tweetframe['Tweet_ID'][i])):\n",
    "            a.append(Tweetframe['Most_FOLLowed_Color'][i])\n",
    "            b.append(Tweetframe['Tweet_user_followers_count'][i])\n",
    "            break\n",
    "        #else:\n",
    "         #   a.append(\"na\")\n",
    "            \n",
    "print(len(a))\n",
    "#print(a)\n",
    "new={'color':a,'value':b}\n",
    "file=pd.DataFrame(new)\n",
    "# color file to be manually copied to node file 5 \n",
    "file.to_csv(\"E:\\\\Twitter paper\\\\DATASET_CREATED\\\\gephi\\\\Node_file(new)5.csv\", index=False)"
   ]
  },
  {
   "cell_type": "code",
   "execution_count": 55,
   "metadata": {},
   "outputs": [
    {
     "name": "stdout",
     "output_type": "stream",
     "text": [
      "700\n"
     ]
    }
   ],
   "source": []
  },
  {
   "cell_type": "code",
   "execution_count": null,
   "metadata": {},
   "outputs": [],
   "source": []
  }
 ],
 "metadata": {
  "kernelspec": {
   "display_name": "Python 3",
   "language": "python",
   "name": "python3"
  },
  "language_info": {
   "codemirror_mode": {
    "name": "ipython",
    "version": 3
   },
   "file_extension": ".py",
   "mimetype": "text/x-python",
   "name": "python",
   "nbconvert_exporter": "python",
   "pygments_lexer": "ipython3",
   "version": "3.7.1"
  }
 },
 "nbformat": 4,
 "nbformat_minor": 2
}
