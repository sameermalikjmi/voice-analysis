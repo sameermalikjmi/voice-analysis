{
 "cells": [
  {
   "cell_type": "code",
   "execution_count": 4,
   "metadata": {},
   "outputs": [
    {
     "name": "stdout",
     "output_type": "stream",
     "text": [
      "done.....\n"
     ]
    },
    {
     "data": {
      "text/plain": [
       "(891, 18)"
      ]
     },
     "execution_count": 4,
     "metadata": {},
     "output_type": "execute_result"
    }
   ],
   "source": [
    "import csv\n",
    "import pandas as pd\n",
    "data=pd.read_csv('E:\\\\Twitter paper\\\\DATASET_CREATED\\\\Zomato.csv')\n",
    "#data=pd.read_csv('E:\\\\Zomato.csv')\n",
    "#data=pd.read_csv('F:\\\\Data\\\\OnePlus(4).csv')\n",
    "lan=['en']\n",
    "subset=data[data['Tweet_language'].isin(lan)]\n",
    "#print(subset)\n",
    "subset.to_csv('E:\\\\Twitter paper\\\\DATASET_CREATED\\\\Zomato_ENGLISH.csv',index = False)\n",
    "print(\"done.....\")\n",
    "subset.shape"
   ]
  },
  {
   "cell_type": "code",
   "execution_count": null,
   "metadata": {},
   "outputs": [],
   "source": []
  },
  {
   "cell_type": "code",
   "execution_count": null,
   "metadata": {},
   "outputs": [],
   "source": []
  },
  {
   "cell_type": "code",
   "execution_count": null,
   "metadata": {},
   "outputs": [],
   "source": []
  }
 ],
 "metadata": {
  "kernelspec": {
   "display_name": "Python 3",
   "language": "python",
   "name": "python3"
  },
  "language_info": {
   "codemirror_mode": {
    "name": "ipython",
    "version": 3
   },
   "file_extension": ".py",
   "mimetype": "text/x-python",
   "name": "python",
   "nbconvert_exporter": "python",
   "pygments_lexer": "ipython3",
   "version": "3.7.1"
  }
 },
 "nbformat": 4,
 "nbformat_minor": 2
}
