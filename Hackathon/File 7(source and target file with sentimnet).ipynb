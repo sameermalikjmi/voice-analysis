{
 "cells": [
  {
   "cell_type": "code",
   "execution_count": 1,
   "metadata": {},
   "outputs": [
    {
     "name": "stdout",
     "output_type": "stream",
     "text": [
      "done\n",
      "done\n",
      "done\n"
     ]
    }
   ],
   "source": [
    "import pandas as pd\n",
    "wordframe = pd.read_csv(\"E:\\\\Twitter paper\\\\DATASET_CREATED\\\\Top_Noun_words.csv\")\n",
    "Tweetframe = pd.read_csv(\"E:\\\\Twitter paper\\\\DATASET_CREATED\\\\Zomato_ENGLISH.csv\")\n",
    "a=[]\n",
    "noun_id=[]\n",
    "tweet_id = []\n",
    "sent=[]\n",
    "avg_sent=[]\n",
    "wordframe.head(5)\n",
    "#Tweetframe.head(5)\n",
    "for i in range (len(Tweetframe)):\n",
    "   # a.append([])\n",
    "    for j in range (len(wordframe)):\n",
    "      #  a[i].append\n",
    "        if (wordframe['word'][j]) in (Tweetframe['punctuation'][i]).replace(\"[\",'').replace(\"]\",\"\").replace(\"'\",''):\n",
    "            a.append(wordframe['word'][j])\n",
    "            noun_id.append(wordframe.index[j])\n",
    "           #tweet_id.append(int(Tweetframe['ID'][i]))\n",
    "            tweet_id.append(Tweetframe.index[i])\n",
    "            sent.append(Tweetframe['sentiments'][i])\n",
    "            avg_sent.append(Tweetframe['average sentiment'][i])\n",
    "dataset= {'Words':a,'tweet_id':tweet_id}                           \n",
    "data= pd.DataFrame(dataset)\n",
    "data.to_csv(\"E:\\\\Twitter paper\\\\DATASET_CREATED\\\\topwords_source_file(new).csv\",index = False)\n",
    "print('done')\n",
    "dataset= {'Words':a,'tweet_id':tweet_id, 'Senti':sent,'noun_id':noun_id,'average_sent':avg_sent}                           \n",
    "data= pd.DataFrame(dataset)\n",
    "data.to_csv(\"E:\\\\Twitter paper\\\\DATASET_CREATED\\\\topwords_source_file.csv\",index = False)\n",
    "print('done')\n",
    "data.shape\n",
    "\n",
    "dataset= {'Source':a,'Target':tweet_id,'Senti':sent}                           \n",
    "data= pd.DataFrame(dataset)\n",
    "data.to_csv(\"E:\\\\Twitter paper\\\\DATASET_CREATED\\\\Deepanshi.csv\",index = False)\n",
    "print('done')"
   ]
  },
  {
   "cell_type": "code",
   "execution_count": 2,
   "metadata": {},
   "outputs": [
    {
     "name": "stdout",
     "output_type": "stream",
     "text": [
      "done\n",
      "(1941, 2)\n",
      "done\n"
     ]
    },
    {
     "data": {
      "text/plain": [
       "(1941, 5)"
      ]
     },
     "execution_count": 2,
     "metadata": {},
     "output_type": "execute_result"
    }
   ],
   "source": [
    "import pandas as pd\n",
    "wordframe = pd.read_csv(\"E:\\\\Twitter paper\\\\DATASET_CREATED\\\\Cleaned_Top_Noun_words.csv\")\n",
    "Tweetframe = pd.read_csv(\"E:\\\\Twitter paper\\\\DATASET_CREATED\\\\Zomato_ENGLISH.csv\")\n",
    "a=[]\n",
    "noun_id=[]\n",
    "tweet_id = []\n",
    "sent=[]\n",
    "avg_sent=[]\n",
    "wordframe.head(5)\n",
    "#Tweetframe.head(5)\n",
    "for i in range (len(Tweetframe)):\n",
    "   # a.append([])\n",
    "    for j in range (len(wordframe)):\n",
    "      #  a[i].append\n",
    "        if (wordframe['word'][j]) in (Tweetframe['punctuation'][i]):\n",
    "            a.append(wordframe['word'][j])\n",
    "            noun_id.append(wordframe.index[j])\n",
    "           #tweet_id.append(int(Tweetframe['ID'][i]))\n",
    "            tweet_id.append(Tweetframe.index[i])\n",
    "            sent.append(Tweetframe['sentiments'][i])\n",
    "            avg_sent.append(Tweetframe['average sentiment'][i])\n",
    "dataset= {'Words':a,'tweet_id':tweet_id}                           \n",
    "data= pd.DataFrame(dataset)\n",
    "data.to_csv(\"E:\\\\Twitter paper\\\\DATASET_CREATED\\\\cleaned_topwords_source_file(new).csv\",index = False)\n",
    "print('done')\n",
    "print(data.shape)\n",
    "\n",
    "dataset= {'Words':a,'tweet_id':tweet_id, 'Senti':sent,'noun_id':noun_id,'average_sent':avg_sent}                           \n",
    "data= pd.DataFrame(dataset)\n",
    "data.to_csv(\"E:\\\\Twitter paper\\\\DATASET_CREATED\\\\cleaned_topwords_source_file.csv\",index = False)\n",
    "print('done')\n",
    "data.shape\n"
   ]
  },
  {
   "cell_type": "code",
   "execution_count": null,
   "metadata": {},
   "outputs": [],
   "source": []
  },
  {
   "cell_type": "code",
   "execution_count": 15,
   "metadata": {},
   "outputs": [],
   "source": []
  },
  {
   "cell_type": "code",
   "execution_count": null,
   "metadata": {},
   "outputs": [],
   "source": []
  }
 ],
 "metadata": {
  "kernelspec": {
   "display_name": "Python 3",
   "language": "python",
   "name": "python3"
  },
  "language_info": {
   "codemirror_mode": {
    "name": "ipython",
    "version": 3
   },
   "file_extension": ".py",
   "mimetype": "text/x-python",
   "name": "python",
   "nbconvert_exporter": "python",
   "pygments_lexer": "ipython3",
   "version": "3.7.1"
  }
 },
 "nbformat": 4,
 "nbformat_minor": 2
}
