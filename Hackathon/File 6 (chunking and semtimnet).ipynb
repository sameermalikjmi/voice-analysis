{
 "cells": [
  {
   "cell_type": "code",
   "execution_count": 1,
   "metadata": {},
   "outputs": [],
   "source": [
    "import nltk\n",
    "from textblob import TextBlob\n",
    "import pandas as pd \n",
    "from nltk import pos_tag\n",
    "from nltk.tokenize import word_tokenize\n",
    "import re\n",
    "from nltk.corpus import stopwords\n",
    "\n",
    "def prepareForNLP(text):\n",
    "    sentences = nltk.sent_tokenize(text)\n",
    "    sentences = [nltk.word_tokenize(sent) for sent in sentences]\n",
    "    sentences = [nltk.pos_tag(sent) for sent in sentences]\n",
    "    return sentences"
   ]
  },
  {
   "cell_type": "code",
   "execution_count": 2,
   "metadata": {},
   "outputs": [],
   "source": [
    "#dataframe = pd.read_csv(\"F:\\\\Data\\\\OnePlus_ENGLISH.csv\")\n",
    "dataframe = pd.read_csv(\"E:\\\\Twitter paper\\\\DATASET_CREATED\\\\Zomato_ENGLISH.csv\")\n",
    "final_chunk = []\n",
    "\n",
    "chunkToExtract =\"\"\"\n",
    "                    Chunk: {<DT|JJ.*|VB.*|C.*|IN|PRP.*|R.*|TO|M.*|NNP|NNS>*<NN>}\n",
    "                    \"\"\"\n",
    "parser = nltk.RegexpParser(chunkToExtract)\n",
    "\n",
    "def text_clean(text):\n",
    "    text=re.sub(replace,\" \",text)\n",
    "    return text \n",
    "\n",
    "import re\n",
    "replace=re.compile('[/(){}\\[\\]\\|@,.#;\"\"!]')\n",
    "\n",
    "for i in range (len(dataframe)):\n",
    "    final_chunk.append([])\n",
    "    \n",
    "    SENTENCE = (dataframe['punctuation'][i]).replace(\"[\",'').replace(\"]\",\"\").replace(\"'\",'')\n",
    "\n",
    "    doc =str(text_clean(SENTENCE))\n",
    "    sentences = prepareForNLP(doc)\n",
    "    for sentence in sentences:\n",
    "        result = parser.parse(sentence)\n",
    "        for subtree in result.subtrees():\n",
    "            if subtree.label() == 'Chunk':\n",
    "                t = subtree\n",
    "                t = ' '.join(word for word, pos in t.leaves())\n",
    "                final_chunk[i].append(t)   "
   ]
  },
  {
   "cell_type": "code",
   "execution_count": 3,
   "metadata": {},
   "outputs": [
    {
     "name": "stdout",
     "output_type": "stream",
     "text": [
      "891\n"
     ]
    }
   ],
   "source": [
    "print(len(final_chunk))"
   ]
  },
  {
   "cell_type": "code",
   "execution_count": 4,
   "metadata": {},
   "outputs": [],
   "source": [
    "df = pd.DataFrame(final_chunk)\n",
    "#df.T.to_csv(\"F:\\\\Data\\\\OnePlus_chunk_file.csv\", index = False)\n",
    "df.T.to_csv(\"E:\\\\Twitter paper\\\\DATASET_CREATED\\\\Zomato_chunk_file.csv\", index = False)"
   ]
  },
  {
   "cell_type": "code",
   "execution_count": 5,
   "metadata": {},
   "outputs": [],
   "source": [
    "def analize_sentiment(text):\n",
    "  \n",
    "    analysis = TextBlob(text)\n",
    "    if analysis.sentiment.polarity > 0:\n",
    "        return 1\n",
    "    elif analysis.sentiment.polarity == 0:\n",
    "        return 0\n",
    "    else:\n",
    "        return -1\n",
    "\n",
    "def exact_senti(text):\n",
    "    deep = TextBlob(text).sentiment.polarity\n",
    "    return deep\n",
    "    \n",
    "def sentiment_calc(text):\n",
    "    try:\n",
    "        return TextBlob(text).sentiment.polarity\n",
    "    except:\n",
    "        return None"
   ]
  },
  {
   "cell_type": "code",
   "execution_count": 6,
   "metadata": {
    "scrolled": true
   },
   "outputs": [
    {
     "name": "stdout",
     "output_type": "stream",
     "text": [
      "done\n"
     ]
    }
   ],
   "source": [
    "#Df = pd.read_csv(\"F:\\\\Data\\\\OnePlus_chunk_file.csv\")\n",
    "Df = pd.read_csv(\"E:\\\\Twitter paper\\\\DATASET_CREATED\\\\Zomato_chunk_file.csv\")\n",
    "\n",
    "sentiment=[]\n",
    "exact_senti=[]\n",
    "\n",
    "for i,col in enumerate(Df):\n",
    "    sentiment.append([])\n",
    "    exact_senti.append([])\n",
    "    \n",
    "    for j in range(len(Df[col])):\n",
    "        #print(str(Df[col][j]))\n",
    "        senti = analize_sentiment(str(Df[col][j]))\n",
    "        exact_sent = sentiment_calc(str(Df[col][j]))\n",
    "        sentiment[i].append([senti,exact_sent])\n",
    "        #exact_senti[i].append([sent])\n",
    "    \n",
    "#print(exact_senti)  \n",
    "dataset = pd.DataFrame(sentiment)\n",
    "#print(dataset)\n",
    "#dataset.T.to_csv(\"F:\\\\Data\\\\OnePlus_chunk_sentiments.csv\",index = False)\n",
    "dataset.T.to_csv(\"E:\\\\Twitter paper\\\\DATASET_CREATED\\\\Zomato_chunk_sentiments.csv\",index = False)\n",
    "print('done')"
   ]
  },
  {
   "cell_type": "code",
   "execution_count": 7,
   "metadata": {},
   "outputs": [
    {
     "data": {
      "text/plain": [
       "(891, 22)"
      ]
     },
     "execution_count": 7,
     "metadata": {},
     "output_type": "execute_result"
    }
   ],
   "source": [
    "sum=0\n",
    "c=0\n",
    "avg_senti = []\n",
    "#data = \"F:\\\\Data\\\\OnePlus_chunk_sentiments.csv\"\n",
    "data = \"E:\\\\Twitter paper\\\\DATASET_CREATED\\\\Zomato_chunk_sentiments.csv\"\n",
    "senti_Data = pd.read_csv(data)\n",
    "\n",
    "for i,col in  enumerate(senti_Data.columns):\n",
    "    avg_senti.append([])\n",
    "    sum=0\n",
    "    for j in range(len(senti_Data[col])):\n",
    "        \n",
    "        name = senti_Data[col][j].replace('[','').replace(']','').split(',')\n",
    "        \n",
    "        if (name[0]!=0):\n",
    "            c = c+1\n",
    "           # sum = sum+(float(name[0])*float(name[1]))\n",
    "            sum = sum+(float(name[1]))\n",
    "        avg = sum/c\n",
    "        \n",
    "    avg_senti[i].append(avg)\n",
    "dataframe['average sentiment'] = avg_senti\n",
    "#dataframe.to_csv(\"F:\\\\Data\\\\OnePlus_ENGLISH.csv\",index = False)\n",
    "dataframe.to_csv(\"E:\\\\Twitter paper\\\\DATASET_CREATED\\\\Zomato_ENGLISH.csv\",index = False)\n",
    "dataframe.shape"
   ]
  },
  {
   "cell_type": "code",
   "execution_count": null,
   "metadata": {},
   "outputs": [],
   "source": []
  },
  {
   "cell_type": "code",
   "execution_count": null,
   "metadata": {},
   "outputs": [],
   "source": []
  }
 ],
 "metadata": {
  "kernelspec": {
   "display_name": "Python 3",
   "language": "python",
   "name": "python3"
  },
  "language_info": {
   "codemirror_mode": {
    "name": "ipython",
    "version": 3
   },
   "file_extension": ".py",
   "mimetype": "text/x-python",
   "name": "python",
   "nbconvert_exporter": "python",
   "pygments_lexer": "ipython3",
   "version": "3.6.5"
  }
 },
 "nbformat": 4,
 "nbformat_minor": 2
}
