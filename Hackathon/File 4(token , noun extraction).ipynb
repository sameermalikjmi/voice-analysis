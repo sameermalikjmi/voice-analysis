{
 "cells": [
  {
   "cell_type": "code",
   "execution_count": 1,
   "metadata": {},
   "outputs": [],
   "source": [
    "import nltk\n",
    "import pandas as pd \n",
    "from nltk import pos_tag\n",
    "from nltk.tokenize import word_tokenize\n",
    "import re\n",
    "#from nltk.corpus import stopwords\n",
    "replace=re.compile('[/(){}\\[\\]\\|@,#;\"\"!:]')\n",
    "\n",
    "\n",
    "def text_clean(text):\n",
    "    text=text.lower()\n",
    "    text=re.sub(replace,\" \",text)\n",
    "    return text \n",
    "\n",
    "def prepareForNLP(text):\n",
    "    sentences = nltk.sent_tokenize(text)\n",
    "    sentences = [nltk.word_tokenize(sent) for sent in sentences]\n",
    "    sentences = [nltk.pos_tag(sent) for sent in sentences]\n",
    "    return sentences"
   ]
  },
  {
   "cell_type": "code",
   "execution_count": 2,
   "metadata": {},
   "outputs": [
    {
     "name": "stdout",
     "output_type": "stream",
     "text": [
      "(7295, 1)\n"
     ]
    }
   ],
   "source": [
    "#dataframe = pd.read_csv('F:\\\\Data\\\\OnePlus_ENGLISH.csv')\n",
    "dataframe = pd.read_csv(\"E:\\\\Twitter paper\\\\DATASET_CREATED\\\\Zomato_ENGLISH.csv\")\n",
    "final_chunk = []\n",
    "\n",
    "chunkToExtract =\"\"\"Chunk1: {<NN>}   \n",
    "                           {<NNP>}\n",
    "                           {<NNS>}\n",
    "                           {<NNPS>}\n",
    "                \n",
    "                    \"\"\"  \n",
    "#NN | Noun, singular or mass |\n",
    "#NNS | Noun, plural |\n",
    "#NNP | Proper noun, singular |\n",
    "#NNPS | Proper noun, plural |\n",
    "parser = nltk.RegexpParser(chunkToExtract)\n",
    "\n",
    "for i in range (len(dataframe)):\n",
    " #   final_chunk.append([])\n",
    "    \n",
    "    SENTENCE = (dataframe['punctuation'][i]).replace(\"[\",'').replace(\"]\",\"\").replace(\"'\",'')\n",
    "\n",
    "    doc =str(text_clean(SENTENCE))\n",
    "    sentences = prepareForNLP(doc)\n",
    "    for sentence in sentences:\n",
    "        result = parser.parse(sentence)\n",
    "        for subtree in result.subtrees():\n",
    "            if subtree.label() == 'Chunk1':\n",
    "                t = subtree\n",
    "                t = ' '.join(word for word, pos in t.leaves())\n",
    "                final_chunk.append(t)\n",
    "#data = {'noun values':final_chunk}               \n",
    "df = pd.DataFrame(final_chunk)\n",
    "print(df.shape)\n",
    "#df.to_csv('F:\\\\Data\\\\OnePlus_noun_word.csv', index = False)\n",
    "df.to_csv(\"E:\\\\Twitter paper\\\\DATASET_CREATED\\\\noun_words_file.csv\", index = False)"
   ]
  },
  {
   "cell_type": "code",
   "execution_count": 6,
   "metadata": {},
   "outputs": [],
   "source": [
    "#print(final_chunk)\n"
   ]
  }
 ],
 "metadata": {
  "kernelspec": {
   "display_name": "Python 3",
   "language": "python",
   "name": "python3"
  },
  "language_info": {
   "codemirror_mode": {
    "name": "ipython",
    "version": 3
   },
   "file_extension": ".py",
   "mimetype": "text/x-python",
   "name": "python",
   "nbconvert_exporter": "python",
   "pygments_lexer": "ipython3",
   "version": "3.7.1"
  }
 },
 "nbformat": 4,
 "nbformat_minor": 2
}
