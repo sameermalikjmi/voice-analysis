{
 "cells": [
  {
   "cell_type": "code",
   "execution_count": null,
   "metadata": {},
   "outputs": [],
   "source": [
    "import collections\n",
    "import pandas as pd\n",
    "import matplotlib.pyplot as plt\n",
    "#%matplotlib inline\n",
    "# Read input file, note the encoding is specified here \n",
    "# It may be different in your text file\n",
    "#file = open('F:\\\\Data\\\\noun.txt', encoding=\"utf8\")\n",
    "file = open('E:\\\\Twitter paper\\\\DATASET_CREATED\\\\noun.txt', encoding=\"utf8\")\n",
    "a= file.read()\n",
    "\n",
    "word_found = []\n",
    "word_count = []\n",
    "wordcount = {}\n",
    "# To eliminate duplicates, remember to split by punctuation, and use case demiliters.\n",
    "for word in a.lower().split():\n",
    "    word = word.replace(\".\",\"\")\n",
    "    word = word.replace(\",\",\"\")\n",
    "    word = word.replace(\":\",\"\")\n",
    "    word = word.replace(\"\\\"\",\"\")\n",
    "    word = word.replace(\"!\",\"\")\n",
    "    word = word.replace(\"%\",\"\")\n",
    "    word = word.replace(\"â€œ\",\"\")\n",
    "    word = word.replace(\"â€˜\",\"\")\n",
    "    word= word.replace(\"$\",\"\")\n",
    "    word = word.replace(\"*\",\"\")\n",
    "    if word not in wordcount:\n",
    "            wordcount[word] = 1\n",
    "    else:\n",
    "            wordcount[word] += 1\n",
    "# Print most common word\n",
    "n_print = int(input(\"How many most common words to print: \"))\n",
    "print(\"\\nOK. The {} most common words are as follows\\n\".format(n_print))\n",
    "\n",
    "word_counter = collections.Counter(wordcount)\n",
    "for word, count in word_counter.most_common(n_print):\n",
    "    word_found.append(word)\n",
    "    word_count.append(count)\n",
    "    print(word, \": \", count)\n",
    "# Close the file\n",
    "file.close()\n",
    "\n",
    "datacount = {'word':word_found,'count':word_count}\n",
    "data_count = pd.DataFrame(datacount)\n",
    "#data_count.to_csv(\"F:\\\\Data\\\\Top_Noun_words.csv\",index = False)\n",
    "data_count.to_csv(\"E:\\\\Twitter paper\\\\DATASET_CREATED\\\\Top_Noun_words.csv\",index = False)\n",
    "\n",
    "lst = word_counter.most_common(n_print)\n",
    "df = pd.DataFrame(lst, columns = ['Word', 'Count'])\n",
    "df.plot.bar(x='Word',y='Count', align='center', alpha=1, width=0.5,edgecolor='black')\n",
    "plt.ylabel('Frequency of Word Occurrence')\n",
    "plt.xticks(fontsize=8)\n",
    "\n",
    "plt.legend(['Maximum Count'])"
   ]
  },
  {
   "cell_type": "code",
   "execution_count": 4,
   "metadata": {},
   "outputs": [
    {
     "name": "stdout",
     "output_type": "stream",
     "text": [
      "           word  count    Target\n",
      "0         order    223  ZomatoIN\n",
      "1          food    149  ZomatoIN\n",
      "2    restaurant    140  ZomatoIN\n",
      "3          kind     81  ZomatoIN\n",
      "4      delivery     79  ZomatoIN\n",
      "5      swiggyin     78  ZomatoIN\n",
      "6         queue     77  ZomatoIN\n",
      "7          city     75  ZomatoIN\n",
      "8      customer     73  ZomatoIN\n",
      "9       service     68  ZomatoIN\n",
      "10       number     60  ZomatoIN\n",
      "11         hole     55  ZomatoIN\n",
      "12      dieting     55  ZomatoIN\n",
      "13        plans     55  ZomatoIN\n",
      "14          day     42  ZomatoIN\n",
      "15       orders     41  ZomatoIN\n",
      "16         time     40  ZomatoIN\n",
      "17    hyderabad     40  ZomatoIN\n",
      "18       jhatka     38  ZomatoIN\n",
      "19        halal     36  ZomatoIN\n",
      "20   deepigoyal     35  ZomatoIN\n",
      "21       refund     34  ZomatoIN\n",
      "22        share     33  ZomatoIN\n",
      "23       please     30  ZomatoIN\n",
      "24     bawarchi     30  ZomatoIN\n",
      "25      picture     28  ZomatoIN\n",
      "26      support     27  ZomatoIN\n",
      "27        thats     27  ZomatoIN\n",
      "28  hihyderabad     27  ZomatoIN\n",
      "29        issue     26  ZomatoIN\n",
      "30          btw     26  ZomatoIN\n",
      "31        money     25  ZomatoIN\n",
      "32         asap     24  ZomatoIN\n",
      "33  swiggycares     24  ZomatoIN\n",
      "34     response     23  ZomatoIN\n",
      "35         dont     23  ZomatoIN\n",
      "36      details     22  ZomatoIN\n",
      "37    customers     22  ZomatoIN\n",
      "38        match     21  ZomatoIN\n",
      "39     listings     20  ZomatoIN\n"
     ]
    }
   ],
   "source": [
    "#cleaning all handel, 1 and 2 character word\n",
    "import pandas as pd\n",
    "import csv\n",
    "#data = pd.read_csv(\"F:\\\\Data\\\\Cleaned_Top_Noun_words.csv\")\n",
    "data = pd.read_csv(\"E:\\\\Twitter paper\\\\DATASET_CREATED\\\\Cleaned_Top_Noun_words.csv\")\n",
    "data['Target']='ZomatoIN'\n",
    "#data.to_csv(\"F:\\\\Data\\\\cleaned wordcount.csv\", index=False)\n",
    "data.to_csv(\"E:\\\\Twitter paper\\\\DATASET_CREATED\\\\cleaned wordcount.csv\", index=False)\n",
    "print(data)"
   ]
  },
  {
   "cell_type": "code",
   "execution_count": 2,
   "metadata": {},
   "outputs": [
    {
     "name": "stdout",
     "output_type": "stream",
     "text": [
      "           word  count\n",
      "0         order    223\n",
      "1          food    149\n",
      "2    restaurant    140\n",
      "3          kind     81\n",
      "4      delivery     79\n",
      "5      swiggyin     78\n",
      "6         queue     77\n",
      "7          city     75\n",
      "8      customer     73\n",
      "9       service     68\n",
      "10       number     60\n",
      "11         hole     55\n",
      "12      dieting     55\n",
      "13        plans     55\n",
      "14          day     42\n",
      "15       orders     41\n",
      "16         time     40\n",
      "17    hyderabad     40\n",
      "18       jhatka     38\n",
      "19        halal     36\n",
      "20   deepigoyal     35\n",
      "21       refund     34\n",
      "22        share     33\n",
      "23       please     30\n",
      "24     bawarchi     30\n",
      "25      picture     28\n",
      "26      support     27\n",
      "27        thats     27\n",
      "28  hihyderabad     27\n",
      "29        issue     26\n",
      "30          btw     26\n",
      "31        money     25\n",
      "32         asap     24\n",
      "33  swiggycares     24\n",
      "34     response     23\n",
      "35         dont     23\n",
      "36      details     22\n",
      "37    customers     22\n",
      "38        match     21\n",
      "39     listings     20\n"
     ]
    },
    {
     "data": {
      "text/plain": [
       "<matplotlib.legend.Legend at 0x2351bbcec50>"
      ]
     },
     "execution_count": 2,
     "metadata": {},
     "output_type": "execute_result"
    },
    {
     "data": {
      "image/png": "[encoded data removed]",
      "text/plain": [
       "<Figure size 432x288 with 1 Axes>"
      ]
     },
     "metadata": {
      "needs_background": "light"
     },
     "output_type": "display_data"
    }
   ],
   "source": [
    "import matplotlib.pyplot as plt\n",
    "import pandas as pd\n",
    "import numpy as np\n",
    "#data = pd.read_csv(\"F:\\\\Data\\\\Cleaned_Top_Noun_words.csv\")\n",
    "data = pd.read_csv(\"E:\\\\Twitter paper\\\\DATASET_CREATED\\\\Cleaned_Top_Noun_words.csv\")\n",
    "print(data)\n",
    "data.plot.bar(x='word',y='count',align='center', alpha=1,width=0.5,edgecolor='black')\n",
    "plt.ylabel('Count')\n",
    "plt.xlabel('Words')\n",
    "plt.xticks(fontsize=8)\n",
    "plt.title('Cleaned Top Words')\n",
    "plt.ylabel('Frequency of Word Occurrence')\n",
    "plt.legend(['Maximum Count'])"
   ]
  },
  {
   "cell_type": "code",
   "execution_count": null,
   "metadata": {},
   "outputs": [],
   "source": [
    "#noun_data = pd.read_csv(\"E:\\\\Twitter paper\\\\noun_chunk_file.csv\")"
   ]
  }
 ],
 "metadata": {
  "kernelspec": {
   "display_name": "Python 3",
   "language": "python",
   "name": "python3"
  },
  "language_info": {
   "codemirror_mode": {
    "name": "ipython",
    "version": 3
   },
   "file_extension": ".py",
   "mimetype": "text/x-python",
   "name": "python",
   "nbconvert_exporter": "python",
   "pygments_lexer": "ipython3",
   "version": "3.7.1"
  }
 },
 "nbformat": 4,
 "nbformat_minor": 2
}
