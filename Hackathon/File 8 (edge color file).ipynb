{
 "cells": [
  {
   "cell_type": "markdown",
   "metadata": {},
   "source": [
    "# Signed Graph with Sentimnet(textblob)"
   ]
  },
  {
   "cell_type": "code",
   "execution_count": 6,
   "metadata": {},
   "outputs": [],
   "source": [
    "import pandas as pd\n",
    "wordframe = pd.read_csv(\"E:\\\\Twitter paper\\\\DATASET_CREATED\\\\Cleaned_Top_Noun_words.csv\")\n",
    "Tweetframe = pd.read_csv(\"E:\\\\Twitter paper\\\\DATASET_CREATED\\\\Zomato_ENGLISH.csv\")\n",
    "a=[]\n",
    "noun_id=[]\n",
    "tweet_id = []\n",
    "sent=[]\n",
    "avg_sent=[]\n",
    "for i in range (len(Tweetframe)):\n",
    "    for j in range (len(wordframe)):\n",
    "        if (wordframe['word'][j]) in (Tweetframe['punctuation'][i]).replace(\"[\",'').replace(\"]\",\"\").replace(\"'\",''):\n",
    "            a.append(wordframe['word'][j])\n",
    "            noun_id.append(wordframe.index[j])\n",
    "            #tweet_id.append(int(Tweetframe['ID'][i]))\n",
    "            tweet_id.append(Tweetframe['Tweet_ID'][i])\n",
    "            sent.append(Tweetframe['sentiments'][i])\n",
    "            avg_sent.append(Tweetframe['average sentiment'][i])\n",
    "            \n",
    "edge={'Source':a,'Target':tweet_id,'Label':sent,'Label1':avg_sent,'Type':'Undirected'}\n",
    "data=pd.DataFrame(edge)\n",
    "data.to_csv('E:\\\\Twitter paper\\\\DATASET_CREATED\\\\gephi\\\\Edge_file1.csv',index=False)\n"
   ]
  },
  {
   "cell_type": "code",
   "execution_count": 7,
   "metadata": {},
   "outputs": [
    {
     "data": {
      "text/plain": [
       "(1941, 6)"
      ]
     },
     "execution_count": 7,
     "metadata": {},
     "output_type": "execute_result"
    }
   ],
   "source": [
    "import csv\n",
    "data = pd.read_csv(\"E:\\\\Twitter paper\\\\DATASET_CREATED\\\\gephi\\\\Edge_file1.csv\")\n",
    "z=[]\n",
    "for i in range (len(data)):\n",
    "    if str(data['Label'][i]) == '1':\n",
    "        z.append('#00FF00')\n",
    "    elif str(data['Label'][i]) == '-1':\n",
    "        z.append('#FF0000')\n",
    "    else:\n",
    "        z.append('#808080')\n",
    "#print(a)\n",
    "data['color']= z\n",
    "data.to_csv(\"E:\\\\Twitter paper\\\\DATASET_CREATED\\\\gephi\\\\Edge_file1.csv\",index = False)\n",
    "#data.to_csv(\"E:\\\\Twitter paper\\\\DATASET_CREATED\\\\Zomato_ENGLISH.csv\", index= False)\n",
    "data.shape"
   ]
  },
  {
   "cell_type": "markdown",
   "metadata": {},
   "source": [
    "# Signed Graph with average sentimnet"
   ]
  },
  {
   "cell_type": "code",
   "execution_count": 9,
   "metadata": {},
   "outputs": [
    {
     "data": {
      "text/plain": [
       "(1941, 5)"
      ]
     },
     "execution_count": 9,
     "metadata": {},
     "output_type": "execute_result"
    }
   ],
   "source": [
    "import pandas as pd\n",
    "wordframe = pd.read_csv(\"E:\\\\Twitter paper\\\\DATASET_CREATED\\\\Cleaned_Top_Noun_words.csv\")\n",
    "Tweetframe = pd.read_csv(\"E:\\\\Twitter paper\\\\DATASET_CREATED\\\\Zomato_ENGLISH.csv\")\n",
    "a=[]\n",
    "noun_id=[]\n",
    "tweet_id = []\n",
    "sent=[]\n",
    "avg_sent=[]\n",
    "for i in range (len(Tweetframe)):\n",
    "    for j in range (len(wordframe)):\n",
    "        if (wordframe['word'][j]) in (Tweetframe['punctuation'][i]).replace(\"[\",'').replace(\"]\",\"\").replace(\"'\",''):\n",
    "            a.append(wordframe['word'][j])\n",
    "            noun_id.append(wordframe.index[j])\n",
    "           #tweet_id.append(int(Tweetframe['ID'][i]))\n",
    "            tweet_id.append(Tweetframe['Tweet_ID'][i])\n",
    "            sent.append(Tweetframe['sentiments'][i])\n",
    "            avg_sent.append(Tweetframe['average sentiment'][i])\n",
    "            \n",
    "edge={'Source':a,'Target':tweet_id,'Label1':sent,'Label':avg_sent,'Type':'Undirected'}\n",
    "data=pd.DataFrame(edge)\n",
    "data.to_csv('E:\\\\Twitter paper\\\\DATASET_CREATED\\\\gephi\\\\Edge_file2.csv',index=False)\n",
    "data.shape"
   ]
  },
  {
   "cell_type": "code",
   "execution_count": 10,
   "metadata": {},
   "outputs": [
    {
     "name": "stdout",
     "output_type": "stream",
     "text": [
      "done\n"
     ]
    },
    {
     "data": {
      "text/plain": [
       "(1941, 6)"
      ]
     },
     "execution_count": 10,
     "metadata": {},
     "output_type": "execute_result"
    }
   ],
   "source": [
    "import csv\n",
    "data = pd.read_csv(\"E:\\\\Twitter paper\\\\DATASET_CREATED\\\\gephi\\\\Edge_file2.csv\")\n",
    "b=[]\n",
    "for i in range (len(data)):\n",
    "    if float(data['Label'][i]) > float(0):\n",
    "        b.append('#00FF00')\n",
    "    elif float(data['Label'][i]) < float(0):\n",
    "        b.append('#FF0000')\n",
    "    else:\n",
    "        b.append('#808080')\n",
    "data['color']= b\n",
    "data.to_csv(\"E:\\\\Twitter paper\\\\DATASET_CREATED\\\\gephi\\\\Edge_file2.csv\",index = False)\n",
    "print('done')\n",
    "data.shape"
   ]
  },
  {
   "cell_type": "markdown",
   "metadata": {},
   "source": [
    "# Simple graph with cleaned top words"
   ]
  },
  {
   "cell_type": "code",
   "execution_count": null,
   "metadata": {},
   "outputs": [],
   "source": []
  },
  {
   "cell_type": "code",
   "execution_count": null,
   "metadata": {},
   "outputs": [],
   "source": []
  }
 ],
 "metadata": {
  "kernelspec": {
   "display_name": "Python 3",
   "language": "python",
   "name": "python3"
  },
  "language_info": {
   "codemirror_mode": {
    "name": "ipython",
    "version": 3
   },
   "file_extension": ".py",
   "mimetype": "text/x-python",
   "name": "python",
   "nbconvert_exporter": "python",
   "pygments_lexer": "ipython3",
   "version": "3.7.1"
  }
 },
 "nbformat": 4,
 "nbformat_minor": 2
}
