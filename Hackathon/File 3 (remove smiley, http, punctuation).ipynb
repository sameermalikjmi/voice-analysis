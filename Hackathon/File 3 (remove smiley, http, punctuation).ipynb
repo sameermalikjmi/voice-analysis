{
 "cells": [
  {
   "cell_type": "code",
   "execution_count": 2,
   "metadata": {},
   "outputs": [
    {
     "name": "stdout",
     "output_type": "stream",
     "text": [
      "done.....\n"
     ]
    },
    {
     "data": {
      "text/plain": [
       "(891, 19)"
      ]
     },
     "execution_count": 2,
     "metadata": {},
     "output_type": "execute_result"
    }
   ],
   "source": [
    "import csv\n",
    "import re\n",
    "import pandas as pd\n",
    "#data=pd.read_csv('F:\\\\Data\\\\OnePlus_ENGLISH.csv')\n",
    "data=pd.read_csv('E:\\\\Twitter paper\\\\DATASET_CREATED\\\\Zomato_ENGLISH.csv')\n",
    "# searchterm = @ZomatoIN\n",
    "emoji_pattern = re.compile(\"[\"\n",
    "                u\"\\U0001F600-\\U0001F64F\"  # emoticons\n",
    "                u\"\\U0001F300-\\U0001F5FF\"  # symbols & pictographs\n",
    "                u\"\\U0001F680-\\U0001F6FF\"  # transport & map symbols\n",
    "                u\"\\U0001F1E0-\\U0001F1FF\"  # flags (iOS)\n",
    "                u\"\\U00002702-\\U000027B0\"\n",
    "                u\"\\U000024C2-\\U0001F251\"\n",
    "                u\"\\U0001f926-\\U0001f937\"\n",
    "                u'\\U00010000-\\U0010ffff'\n",
    "                u\"\\u200d\"\n",
    "                u\"\\u2640-\\u2642\"\n",
    "                u\"\\u2600-\\u2B55\"\n",
    "                u\"\\u23cf\"\n",
    "                u\"\\u23e9\"\n",
    "                u\"\\u231a\"\n",
    "                u\"\\u3030\"\n",
    "                u\"\\ufe0f\"\n",
    "                u\"\\r\"\n",
    "                u\"\\n\"\n",
    "    \"]+\", flags=re.UNICODE)\n",
    "texto=[]\n",
    "#result = re.sub(r\"http\\S+\", \"\", subject)\n",
    "for i in range (len(data)):\n",
    "    texto.append([])\n",
    "    text=re.sub(emoji_pattern,'',data['Tweets'][i])\n",
    "    texto[i].append(text)\n",
    "    #print(texto[i])\n",
    "data['no_emoji_tweet']=texto\n",
    "#data.to_csv('F:\\\\Data\\\\OnePlus_ENGLISH.csv',index = False)\n",
    "data.to_csv(\"E:\\\\Twitter paper\\\\DATASET_CREATED\\\\Zomato_ENGLISH.csv\",index = False)\n",
    "#print(data)\n",
    "print(\"done.....\")\n",
    "data.shape"
   ]
  },
  {
   "cell_type": "code",
   "execution_count": 3,
   "metadata": {},
   "outputs": [
    {
     "name": "stdout",
     "output_type": "stream",
     "text": [
      "done.....\n"
     ]
    },
    {
     "data": {
      "text/plain": [
       "(891, 20)"
      ]
     },
     "execution_count": 3,
     "metadata": {},
     "output_type": "execute_result"
    }
   ],
   "source": [
    "import csv\n",
    "import re\n",
    "import pandas as pd\n",
    "data=pd.read_csv('E:\\\\Twitter paper\\\\DATASET_CREATED\\\\Zomato_ENGLISH.csv')\n",
    "#data=pd.read_csv('E:\\\\Zomato_ENGLISH.csv')\n",
    "texto=[]\n",
    "for i in range (len(data)):\n",
    "    texto.append([])\n",
    "    text=re.sub(r\"http\\S+\", \"\",data['no_emoji_tweet'][i]).replace(\"[\",'').replace(\"]\",\"\").replace(\"'\",'')\n",
    "    texto[i].append(text)\n",
    "    #print(texto[i])\n",
    "data['without http']=texto\n",
    "#data.to_csv('F:\\\\Data\\\\OnePlus_ENGLISH.csv',index = False)\n",
    "data.to_csv(\"E:\\\\Twitter paper\\\\DATASET_CREATED\\\\Zomato_ENGLISH.csv\",index = False)\n",
    "print(\"done.....\")\n",
    "#result = re.sub(r\"http\\S+\", \"\", subject)\n",
    "data.shape"
   ]
  },
  {
   "cell_type": "code",
   "execution_count": 4,
   "metadata": {},
   "outputs": [
    {
     "name": "stdout",
     "output_type": "stream",
     "text": [
      "done.....\n"
     ]
    },
    {
     "data": {
      "text/plain": [
       "(891, 21)"
      ]
     },
     "execution_count": 4,
     "metadata": {},
     "output_type": "execute_result"
    }
   ],
   "source": [
    "import csv\n",
    "import pandas as pd\n",
    "data=pd.read_csv('E:\\\\Twitter paper\\\\DATASET_CREATED\\\\Zomato_ENGLISH.csv')\n",
    "#data=pd.read_csv('E:\\\\Zomato_ENGLISH.csv')\n",
    "punctuations = '''..!()-[]{};:'\"\\,<>./?@#$%^&*_~'''\n",
    "tweet=\"\"\n",
    "punc_tweet=[]\n",
    "for i in range (len(data)):\n",
    "    punc_tweet.append([])\n",
    "    for char in str(data['without http'][i]).replace(\"[\",'').replace(\"]\",\"\").replace(\"'\",''):\n",
    "        if char not in punctuations:\n",
    "            tweet=tweet + char\n",
    "    punc_tweet[i].append(tweet)\n",
    "    #print(punc_tweet[i])\n",
    "    tweet=\"\"\n",
    "data['punctuation']=punc_tweet\n",
    "#df=pd.DataFrame(punc_tweet)\n",
    "#data.to_csv('F:\\\\Data\\\\OnePlus_ENGLISH.csv',index = False)\n",
    "data.to_csv(\"E:\\\\Twitter paper\\\\DATASET_CREATED\\\\Zomato_ENGLISH.csv\",index = False)\n",
    "print(\"done.....\")\n",
    "data.shape"
   ]
  },
  {
   "cell_type": "code",
   "execution_count": null,
   "metadata": {},
   "outputs": [],
   "source": []
  },
  {
   "cell_type": "code",
   "execution_count": null,
   "metadata": {},
   "outputs": [],
   "source": []
  }
 ],
 "metadata": {
  "kernelspec": {
   "display_name": "Python 3",
   "language": "python",
   "name": "python3"
  },
  "language_info": {
   "codemirror_mode": {
    "name": "ipython",
    "version": 3
   },
   "file_extension": ".py",
   "mimetype": "text/x-python",
   "name": "python",
   "nbconvert_exporter": "python",
   "pygments_lexer": "ipython3",
   "version": "3.7.1"
  }
 },
 "nbformat": 4,
 "nbformat_minor": 2
}
